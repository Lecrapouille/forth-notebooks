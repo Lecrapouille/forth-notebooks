{
 "metadata": {
  "name": ""
 },
 "nbformat": 3,
 "nbformat_minor": 0,
 "worksheets": [
  {
   "cells": [
    {
     "cell_type": "heading",
     "level": 1,
     "metadata": {},
     "source": [
      "How to reverse the stack"
     ]
    },
    {
     "cell_type": "markdown",
     "metadata": {},
     "source": [
      "At euroForth 2013 we raised the question how to reverse (parts of) the stack.\n",
      "\n",
      "Here is a definition of the word __nreverse__ that reverses the order of the \n",
      "topmost n items."
     ]
    },
    {
     "cell_type": "code",
     "collapsed": false,
     "input": [
      "%%gforth\n",
      "\n",
      ": nreverse ( n*x n -- n*x' )\n",
      "   1 DO  I roll  LOOP ;"
     ],
     "language": "python",
     "metadata": {},
     "outputs": [
      {
       "output_type": "stream",
       "stream": "stdout",
       "text": [
        " ok\n",
        "\n"
       ]
      }
     ],
     "prompt_number": 24
    },
    {
     "cell_type": "markdown",
     "metadata": {},
     "source": [
      "What? How does it work? It moves the topmost item to the top, then the second and so on until it moves\n",
      "the nth item to the top, alas the topmost n items are reversed."
     ]
    },
    {
     "cell_type": "markdown",
     "metadata": {},
     "source": [
      "So let's try it:"
     ]
    },
    {
     "cell_type": "code",
     "collapsed": false,
     "input": [
      "%%gforth\n",
      "\n",
      "clearstack\n",
      "\n",
      "1 2 3   10 20 30 40 50 5 nreverse .s"
     ],
     "language": "python",
     "metadata": {},
     "outputs": [
      {
       "output_type": "stream",
       "stream": "stdout",
       "text": [
        "<8> 1 2 3 50 40 30 20 10  ok\n",
        "\n"
       ]
      }
     ],
     "prompt_number": 25
    },
    {
     "cell_type": "markdown",
     "metadata": {},
     "source": [
      "Fine - works as expected."
     ]
    },
    {
     "cell_type": "markdown",
     "metadata": {},
     "source": [
      "But - it uses __roll__ that is rather inefficient. Can't we find another implementation of __nreverse__?\n",
      "\n",
      "Sure - we could copy the stack items to main memory and then read them back to the stack in required order:"
     ]
    },
    {
     "cell_type": "code",
     "collapsed": false,
     "input": [
      "%%gforth\n",
      "\n",
      ": nreverse ( n*x n -- n*x' )\n",
      "   here >r dup >r here >r\n",
      "   0 DO , LOOP\n",
      "   r> r> cells bounds DO  I @  1 cells +LOOP\n",
      "   r> dp ! ;\n",
      "   "
     ],
     "language": "python",
     "metadata": {},
     "outputs": [
      {
       "output_type": "stream",
       "stream": "stdout",
       "text": [
        "redefined nreverse   ok\n",
        "\n"
       ]
      }
     ],
     "prompt_number": 26
    },
    {
     "cell_type": "markdown",
     "metadata": {},
     "source": [
      "Temporary space in the dictionary is allocated by ,-ing the items from the stack.\n",
      "After reading the items back to the stack, the dictionary pointer is restored. "
     ]
    },
    {
     "cell_type": "markdown",
     "metadata": {},
     "source": [
      "So, what is this __bounds__ word? __bounds__ is defined like this:"
     ]
    },
    {
     "cell_type": "code",
     "collapsed": false,
     "input": [
      "%%gforth\n",
      "\n",
      "see bounds"
     ],
     "language": "python",
     "metadata": {},
     "outputs": [
      {
       "output_type": "stream",
       "stream": "stdout",
       "text": [
        "\n",
        ": bounds  \n",
        "  over + swap ; ok\n",
        "\n"
       ]
      }
     ],
     "prompt_number": 27
    },
    {
     "cell_type": "markdown",
     "metadata": {},
     "source": [
      "Essentially it converts __addr__ __count__ to __end-addr__ __start-addr__ so that the __DO__ loop can iterate over addresses."
     ]
    },
    {
     "cell_type": "markdown",
     "metadata": {},
     "source": [
      "OK, let's test this new implementation."
     ]
    },
    {
     "cell_type": "code",
     "collapsed": false,
     "input": [
      "%%gforth\n",
      "\n",
      "clearstack here .\n",
      "\n",
      "1 2 3   10 20 30 40 50 5 nreverse .s\n",
      "\n",
      "cr here ."
     ],
     "language": "python",
     "metadata": {},
     "outputs": [
      {
       "output_type": "stream",
       "stream": "stdout",
       "text": [
        "4312103552 <8> 1 2 3 50 40 30 20 10 \n",
        "4312103552  ok\n",
        "\n"
       ]
      }
     ],
     "prompt_number": 28
    },
    {
     "cell_type": "markdown",
     "metadata": {},
     "source": [
      "Right, the dictionary pointer stays the same and the stack is reversed. Fine."
     ]
    },
    {
     "cell_type": "markdown",
     "metadata": {},
     "source": [
      "---"
     ]
    }
   ],
   "metadata": {}
  }
 ]
}