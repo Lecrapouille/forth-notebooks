{
 "metadata": {
  "name": ""
 },
 "nbformat": 3,
 "nbformat_minor": 0,
 "worksheets": [
  {
   "cells": [
    {
     "cell_type": "markdown",
     "metadata": {},
     "source": [
      "# Hello Forth"
     ]
    },
    {
     "cell_type": "markdown",
     "metadata": {},
     "source": [
      "Using the %%gforth cell magic, it's possible to \n",
      "do Forth Literate Programming with IPython.\n",
      "\n",
      "You can do definitions:"
     ]
    },
    {
     "cell_type": "code",
     "collapsed": false,
     "input": [
      "%%gforth\n",
      "\n",
      ": hello ( -- ) cr .\" Hello, IPython notebook world with Forth.\" ;\n",
      "    \n",
      ": hellos ( -- )  10 0 DO  hello  LOOP ;"
     ],
     "language": "python",
     "metadata": {},
     "outputs": [
      {
       "output_type": "stream",
       "stream": "stdout",
       "text": [
        " ok\n",
        "\n"
       ]
      }
     ],
     "prompt_number": 1
    },
    {
     "cell_type": "markdown",
     "metadata": {},
     "source": [
      "Then run your definitions:"
     ]
    },
    {
     "cell_type": "code",
     "collapsed": false,
     "input": [
      "%%gforth\n",
      "\n",
      "hellos"
     ],
     "language": "python",
     "metadata": {},
     "outputs": [
      {
       "output_type": "stream",
       "stream": "stdout",
       "text": [
        "\n",
        "Hello, IPython notebook world with Forth.\n",
        "Hello, IPython notebook world with Forth.\n",
        "Hello, IPython notebook world with Forth.\n",
        "Hello, IPython notebook world with Forth.\n",
        "Hello, IPython notebook world with Forth.\n",
        "Hello, IPython notebook world with Forth.\n",
        "Hello, IPython notebook world with Forth.\n",
        "Hello, IPython notebook world with Forth.\n",
        "Hello, IPython notebook world with Forth.\n",
        "Hello, IPython notebook world with Forth. ok\n",
        "\n"
       ]
      }
     ],
     "prompt_number": 2
    },
    {
     "cell_type": "markdown",
     "metadata": {},
     "source": [
      "Looks interesting to me."
     ]
    }
   ],
   "metadata": {}
  }
 ]
}